{
 "cells": [
  {
   "cell_type": "code",
   "execution_count": 2,
   "metadata": {},
   "outputs": [
    {
     "name": "stdout",
     "output_type": "stream",
     "text": [
      "processing YELP data...\n"
     ]
    }
   ],
   "source": [
    "from scipy.io import loadmat\n",
    "import os\n",
    "# DATADIR = os.path.join(os.path.dirname(os.path.abspath(__file__)), \"..\", \"data/\")\n",
    "\n",
    "DATADIR = \"/home/yangjirui/data/GNN/antifraud/data\"\n",
    "print(f\"processing YELP data...\")\n",
    "yelp = loadmat(os.path.join(DATADIR, 'YelpChi.mat'))\n",
    "net_rur = yelp['net_rur']\n",
    "net_rtr = yelp['net_rtr']\n",
    "net_rsr = yelp['net_rsr']\n",
    "yelp_homo = yelp['homo']"
   ]
  },
  {
   "cell_type": "code",
   "execution_count": null,
   "metadata": {},
   "outputs": [
    {
     "name": "stdout",
     "output_type": "stream",
     "text": [
      "{'__header__': b'MATLAB 5.0 MAT-file Platform: posix, Created on: Wed Aug 19 20:09:02 2020', '__version__': '1.0', '__globals__': [], 'homo': <45954x45954 sparse matrix of type '<class 'numpy.float64'>'\n",
      "\twith 7693958 stored elements in Compressed Sparse Column format>, 'net_rur': <45954x45954 sparse matrix of type '<class 'numpy.float64'>'\n",
      "\twith 98630 stored elements in Compressed Sparse Column format>, 'net_rtr': <45954x45954 sparse matrix of type '<class 'numpy.float64'>'\n",
      "\twith 1147232 stored elements in Compressed Sparse Column format>, 'net_rsr': <45954x45954 sparse matrix of type '<class 'numpy.float64'>'\n",
      "\twith 6805486 stored elements in Compressed Sparse Column format>, 'features': <45954x32 sparse matrix of type '<class 'numpy.float64'>'\n",
      "\twith 1469088 stored elements in Compressed Sparse Column format>, 'label': array([[0, 0, 0, ..., 0, 0, 0]])}\n"
     ]
    }
   ],
   "source": [
    "print(yelp)\n",
    "'''\n",
    "__header__：这是 .mat 文件的元数据头部，包含文件的版本、平台（如 posix），以及创建日期等信息。在这里，文件是 MATLAB 5.0 格式，于 2020 年 8 月 19 日创建。\n",
    "__version__：.mat 文件的版本，这里是 1.0，用于标识文件的版本信息。\n",
    "__globals__：存储文件中任何全局变量的信息。在这个文件中，__globals__ 是一个空列表，表示文件中没有全局变量。\n",
    "homo：一个 45954 x 45954 的稀疏矩阵，表示图的同质网络（homogeneous network）。该矩阵的元素类型是 float64，存储在压缩列格式（Compressed Sparse Column, CSC）中，共有 7693958 个非零元素。此矩阵通常用于表示节点间的关系或连接。\n",
    "net_rur：另一个 45954 x 45954 的稀疏矩阵，连接同一用户发布的评论。表示用户-评论-用户（review-user-review）网络的邻接矩阵。它的非零元素数量为 98630，元素类型也是 float64，以 CSC 格式存储。这种矩阵结构适合表示节点之间稀疏的关系网络。\n",
    "net_rtr：一个 45954 x 45954 的稀疏矩阵，连接在同一产品下同一月份发布的评论。（review-Time-review）网络的邻接矩阵。它有 1147232 个非零元素，使用 float64 类型，以 CSC 格式存储。\n",
    "net_rsr：一个 45954 x 45954 的稀疏矩阵，连接同一产品下具有相同评分的评论。表示评论-服务-评论（review-Score-review）网络的邻接矩阵。该矩阵有 6805486 个非零元素，用于表示评论间通过服务的关系。\n",
    "features：一个 45954 x 32 的稀疏矩阵，包含了节点的特征信息，共有 1469088 个非零元素。每一行代表一个节点的特征，特征数量为 32。这可能包含节点的基本信息或统计信息，通常用于训练图神经网络。\n",
    "label：一个二维数组，包含节点的标签信息，形状为 (1, 45954)。其中每个值表示一个节点的类别标签，通常用于监督学习任务中的标签对照。\n",
    "'''"
   ]
  },
  {
   "cell_type": "code",
   "execution_count": 8,
   "metadata": {},
   "outputs": [
    {
     "name": "stdout",
     "output_type": "stream",
     "text": [
      "  (0, 0)\t0.022375547147414496\n",
      "  (1, 0)\t0.024927665257066547\n",
      "  (2, 0)\t0.00617256473032124\n",
      "  (3, 0)\t0.017375176200014837\n",
      "  (4, 0)\t0.009080792343645672\n",
      "  (5, 0)\t0.014689517026485644\n",
      "  (6, 0)\t0.11307960531196676\n",
      "  (7, 0)\t0.10889531864381631\n",
      "  (8, 0)\t0.10680317530974108\n",
      "  (9, 0)\t0.11730840566807627\n",
      "  (10, 0)\t0.09819719563765858\n",
      "  (11, 0)\t0.08947251279768528\n",
      "  (12, 0)\t0.09383485421767193\n",
      "  (13, 0)\t0.11521626233400104\n",
      "  (14, 0)\t0.10471103197566585\n",
      "  (15, 0)\t0.06635507085095334\n",
      "  (16, 0)\t0.09597151123970621\n",
      "  (17, 0)\t0.03006157726834335\n",
      "  (18, 0)\t0.003175309741078715\n",
      "  (19, 0)\t0.01994213220565324\n",
      "  (20, 0)\t0.06412938645300097\n",
      "  (21, 0)\t0.009080792343645672\n",
      "  (22, 0)\t0.05929223236145115\n",
      "  (23, 0)\t0.08272127012389643\n",
      "  (24, 0)\t0.03759922842940871\n",
      "  :\t:\n",
      "  (45929, 31)\t0.572139303482587\n",
      "  (45930, 31)\t0.572139303482587\n",
      "  (45931, 31)\t0.572139303482587\n",
      "  (45932, 31)\t0.572139303482587\n",
      "  (45933, 31)\t0.572139303482587\n",
      "  (45934, 31)\t0.572139303482587\n",
      "  (45935, 31)\t0.572139303482587\n",
      "  (45936, 31)\t0.5970149253731343\n",
      "  (45937, 31)\t0.5970149253731343\n",
      "  (45938, 31)\t0.5970149253731343\n",
      "  (45939, 31)\t0.34328358208955223\n",
      "  (45940, 31)\t0.34328358208955223\n",
      "  (45941, 31)\t0.34328358208955223\n",
      "  (45942, 31)\t0.34328358208955223\n",
      "  (45943, 31)\t0.44776119402985076\n",
      "  (45944, 31)\t0.44776119402985076\n",
      "  (45945, 31)\t0.44776119402985076\n",
      "  (45946, 31)\t0.8805970149253731\n",
      "  (45947, 31)\t0.6169154228855721\n",
      "  (45948, 31)\t0.40298507462686567\n",
      "  (45949, 31)\t0.845771144278607\n",
      "  (45950, 31)\t0.16417910447761194\n",
      "  (45951, 31)\t0.16417910447761194\n",
      "  (45952, 31)\t0.5870646766169154\n",
      "  (45953, 31)\t0.5870646766169154\n",
      "<class 'scipy.sparse._csc.csc_matrix'>\n"
     ]
    }
   ],
   "source": [
    "# 打印yelp的features\n",
    "print(yelp['features'])\n",
    "# 打印其类型\n",
    "print(type(yelp['features']))"
   ]
  },
  {
   "cell_type": "code",
   "execution_count": null,
   "metadata": {},
   "outputs": [],
   "source": []
  }
 ],
 "metadata": {
  "kernelspec": {
   "display_name": "gnn",
   "language": "python",
   "name": "python3"
  },
  "language_info": {
   "codemirror_mode": {
    "name": "ipython",
    "version": 3
   },
   "file_extension": ".py",
   "mimetype": "text/x-python",
   "name": "python",
   "nbconvert_exporter": "python",
   "pygments_lexer": "ipython3",
   "version": "3.9.17"
  }
 },
 "nbformat": 4,
 "nbformat_minor": 2
}
